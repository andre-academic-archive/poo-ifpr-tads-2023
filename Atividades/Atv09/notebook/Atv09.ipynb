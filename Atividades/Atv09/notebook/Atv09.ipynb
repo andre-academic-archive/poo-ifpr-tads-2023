{
 "cells": [
  {
   "cell_type": "markdown",
   "id": "14e01bb5-4b25-4fa7-b2db-00e037b227a6",
   "metadata": {},
   "source": [
    "# Atv09"
   ]
  },
  {
   "cell_type": "markdown",
   "id": "4512eb5c-4a84-45e3-a4e5-998eeab4ab2b",
   "metadata": {},
   "source": [
    "1 - Criar na classe Java Cliente um método sem retorno chamado exibirInfoCliente, este método quando executado deve exibir os valores dos atributos na tela.\n",
    "\n",
    "2 - Alterar a classe CadastroDeClientes, para que o método exibirInfoCliente seja executado."
   ]
  },
  {
   "cell_type": "code",
   "execution_count": 1,
   "id": "17e62d00",
   "metadata": {},
   "outputs": [],
   "source": [
    "import java.util.Date;\n",
    "\n",
    "private static class Address {\n",
    "    String street;\n",
    "    int number;\n",
    "    String complement;\n",
    "    private String city;\n",
    "    private String state;\n",
    "    private String cep;\n",
    "\n",
    "    Address(String street, int number, String complement, String city, String state, String cep) {\n",
    "        this.street = street;\n",
    "        this.number = number;\n",
    "        this.complement = complement;\n",
    "        this.city = city;\n",
    "        this.state = state;\n",
    "        this.cep = cep;\n",
    "    }\n",
    "\n",
    "    public String getStreet() {\n",
    "        return street;\n",
    "    }\n",
    "\n",
    "    public int getNumber() {\n",
    "        return number;\n",
    "    }\n",
    "\n",
    "    public String getComplement() {\n",
    "        return complement;\n",
    "    }\n",
    "\n",
    "    public String getCity() {\n",
    "        return city;\n",
    "    }\n",
    "\n",
    "    public String getState() {\n",
    "        return state;\n",
    "    }\n",
    "\n",
    "    public String getCep() {\n",
    "        return cep;\n",
    "    }\n",
    "\n",
    "    public void exibirInfoEndereco() {\n",
    "        System.out.println(\"Rua: \" + this.street);\n",
    "        System.out.println(\"Número: \" + this.number);\n",
    "        System.out.println(\"Complemento: \" + this.complement);\n",
    "        System.out.println(\"Cidade: \" + this.city);\n",
    "        System.out.println(\"Estado: \" + this.state);\n",
    "        System.out.println(\"CEP: \" + this.cep);\n",
    "    }\n",
    "}\n",
    "\n",
    "private static class Cliente {\n",
    "    private String name;\n",
    "    private Date birthdate;\n",
    "    private Address addresss;\n",
    "    private String email;\n",
    "    private String cardNumber;\n",
    "\n",
    "    Cliente(String name, Date birthdate, String street, int number, String complement, String city, String state,\n",
    "            String cep, String email, String cardNumber) {\n",
    "        this.name = name;\n",
    "        this.birthdate = birthdate;\n",
    "        this.addresss = new Address(street, number, complement, city, state, cep);\n",
    "        this.email = email;\n",
    "        this.cardNumber = cardNumber;\n",
    "    }\n",
    "\n",
    "    public String getName() {\n",
    "        return name;\n",
    "    }\n",
    "\n",
    "    public Date getBirthdate() {\n",
    "        return birthdate;\n",
    "    }\n",
    "\n",
    "    public Address getAddresss() {\n",
    "        return addresss;\n",
    "    }\n",
    "\n",
    "    public String getEmail() {\n",
    "        return email;\n",
    "    }\n",
    "\n",
    "    public String getCardNumber() {\n",
    "        return cardNumber;\n",
    "    }\n",
    "\n",
    "    public void exibirInfoCliente() {\n",
    "        System.out.println(\"Nome: \" + this.name);\n",
    "        System.out.println(\"Data de nascimento: \" + this.birthdate);\n",
    "        this.addresss.exibirInfoEndereco();\n",
    "        System.out.println(\"Email: \" + this.email);\n",
    "        System.out.println(\"Número do cartão: \" + this.cardNumber);\n",
    "    }\n",
    "}"
   ]
  },
  {
   "cell_type": "code",
   "execution_count": 2,
   "id": "d9859a95",
   "metadata": {},
   "outputs": [],
   "source": [
    "public static class CadastroDeClientes {\n",
    "    public static void main(String[] args) {\n",
    "        Cliente cliente = new Cliente(\"João\", new Date(1990, 1, 1), \"Rua 1\", 1, \"Casa\", \"São Paulo\", \"SP\", \"00000-000\",\n",
    "                \"foo.bar@foobar.com\", \"4210904764439437\");\n",
    "        cliente.exibirInfoCliente();\n",
    "    }\n",
    "}"
   ]
  },
  {
   "cell_type": "code",
   "execution_count": 3,
   "id": "dd1819d8",
   "metadata": {},
   "outputs": [
    {
     "name": "stdout",
     "output_type": "stream",
     "text": [
      "Nome: João\n",
      "Data de nascimento: Sat Feb 01 00:00:00 BRT 3890\n",
      "Rua: Rua 1\n",
      "Número: 1\n",
      "Complemento: Casa\n",
      "Cidade: São Paulo\n",
      "Estado: SP\n",
      "CEP: 00000-000\n",
      "Email: foo.bar@foobar.com\n",
      "Número do cartão: 4210904764439437\n"
     ]
    }
   ],
   "source": [
    "CadastroDeClientes.main(null);"
   ]
  }
 ],
 "metadata": {
  "kernelspec": {
   "display_name": "Java",
   "language": "java",
   "name": "java"
  },
  "language_info": {
   "codemirror_mode": "java",
   "file_extension": ".jshell",
   "mimetype": "text/x-java-source",
   "name": "Java",
   "pygments_lexer": "java",
   "version": "19.0.2+7-Ubuntu-0ubuntu322.04"
  }
 },
 "nbformat": 4,
 "nbformat_minor": 5
}
