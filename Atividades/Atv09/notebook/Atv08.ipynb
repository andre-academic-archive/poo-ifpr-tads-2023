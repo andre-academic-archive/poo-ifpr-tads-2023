{
 "cells": [
  {
   "cell_type": "markdown",
   "id": "14e01bb5-4b25-4fa7-b2db-00e037b227a6",
   "metadata": {},
   "source": [
    "# Atv06"
   ]
  },
  {
   "cell_type": "markdown",
   "id": "4512eb5c-4a84-45e3-a4e5-998eeab4ab2b",
   "metadata": {},
   "source": [
    "Dados os valores de um depósito fixo mensal e um montante desejado, exiba abaixo o trecho do código em java para determinar quantos meses serão necessários para acumular o montante desejado, considerando juros mensais de 0,5%."
   ]
  },
  {
   "cell_type": "code",
   "execution_count": 1,
   "id": "17e62d00",
   "metadata": {},
   "outputs": [],
   "source": [
    "import java.util.Date;\n",
    "\n",
    "private static class Address {\n",
    "    String street;\n",
    "    int number;\n",
    "    String complement;\n",
    "    private String city;\n",
    "    private String state;\n",
    "    private String cep;\n",
    "\n",
    "    Address(String street, int number, String complement, String city, String state, String cep) {\n",
    "        this.street = street;\n",
    "        this.number = number;\n",
    "        this.complement = complement;\n",
    "        this.city = city;\n",
    "        this.state = state;\n",
    "        this.cep = cep;\n",
    "    }\n",
    "\n",
    "    public String getStreet() {\n",
    "        return street;\n",
    "    }\n",
    "\n",
    "    public int getNumber() {\n",
    "        return number;\n",
    "    }\n",
    "\n",
    "    public String getComplement() {\n",
    "        return complement;\n",
    "    }\n",
    "\n",
    "    public String getCity() {\n",
    "        return city;\n",
    "    }\n",
    "\n",
    "    public String getState() {\n",
    "        return state;\n",
    "    }\n",
    "\n",
    "    public String getCep() {\n",
    "        return cep;\n",
    "    }\n",
    "}\n",
    "\n",
    "private static class Cliente {\n",
    "    private String name;\n",
    "    private Date birthdate;\n",
    "    private Address addresss;\n",
    "    private String email;\n",
    "    private String cardNumber;\n",
    "\n",
    "    Cliente(String name, Date birthdate, String street, int number, String complement, String city, String state,\n",
    "            String cep, String email, String cardNumber) {\n",
    "        this.name = name;\n",
    "        this.birthdate = birthdate;\n",
    "        this.addresss = new Address(street, number, complement, city, state, cep);\n",
    "        this.email = email;\n",
    "        this.cardNumber = cardNumber;\n",
    "    }\n",
    "\n",
    "    public String getName() {\n",
    "        return name;\n",
    "    }\n",
    "\n",
    "    public Date getBirthdate() {\n",
    "        return birthdate;\n",
    "    }\n",
    "\n",
    "    public Address getAddresss() {\n",
    "        return addresss;\n",
    "    }\n",
    "\n",
    "    public String getEmail() {\n",
    "        return email;\n",
    "    }\n",
    "\n",
    "    public String getCardNumber() {\n",
    "        return cardNumber;\n",
    "    }\n",
    "}"
   ]
  },
  {
   "cell_type": "code",
   "execution_count": 2,
   "id": "d9859a95",
   "metadata": {},
   "outputs": [],
   "source": [
    "public static class CadastroDeClientes {\n",
    "    public static void main(String[] args) {\n",
    "        Cliente cliente = new Cliente(\"João\", new Date(1990, 1, 1), \"Rua 1\", 1, \"Casa\", \"São Paulo\", \"SP\", \"00000-000\",\n",
    "                \"foo.bar@foobar.com\", \"4210904764439437\");\n",
    "        System.out.println(cliente.getName());\n",
    "        System.out.println(cliente.getBirthdate());\n",
    "        System.out.println(cliente.getAddresss().getStreet());\n",
    "        System.out.println(cliente.getAddresss().getNumber());\n",
    "        System.out.println(cliente.getAddresss().getComplement());\n",
    "        System.out.println(cliente.getAddresss().getCity());\n",
    "        System.out.println(cliente.getAddresss().getState());\n",
    "        System.out.println(cliente.getAddresss().getCep());\n",
    "        System.out.println(cliente.getEmail());\n",
    "        System.out.println(cliente.getCardNumber());\n",
    "    }\n",
    "}"
   ]
  },
  {
   "cell_type": "code",
   "execution_count": 3,
   "id": "dd1819d8",
   "metadata": {},
   "outputs": [
    {
     "name": "stdout",
     "output_type": "stream",
     "text": [
      "João\n",
      "Sat Feb 01 00:00:00 BRT 3890\n",
      "Rua 1\n",
      "1\n",
      "Casa\n",
      "São Paulo\n",
      "SP\n",
      "00000-000\n",
      "foo.bar@foobar.com\n",
      "4210904764439437\n"
     ]
    }
   ],
   "source": [
    "CadastroDeClientes.main(null);"
   ]
  }
 ],
 "metadata": {
  "kernelspec": {
   "display_name": "Java",
   "language": "java",
   "name": "java"
  },
  "language_info": {
   "codemirror_mode": "java",
   "file_extension": ".jshell",
   "mimetype": "text/x-java-source",
   "name": "Java",
   "pygments_lexer": "java",
   "version": "19.0.2+7-Ubuntu-0ubuntu322.04"
  }
 },
 "nbformat": 4,
 "nbformat_minor": 5
}
