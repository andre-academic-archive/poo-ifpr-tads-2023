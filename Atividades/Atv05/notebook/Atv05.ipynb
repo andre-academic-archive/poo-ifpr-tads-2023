{
 "cells": [
  {
   "cell_type": "markdown",
   "id": "14e01bb5-4b25-4fa7-b2db-00e037b227a6",
   "metadata": {},
   "source": [
    "# Atv05"
   ]
  },
  {
   "cell_type": "markdown",
   "id": "4512eb5c-4a84-45e3-a4e5-998eeab4ab2b",
   "metadata": {},
   "source": [
    "1 - Declare uma variável do tipo real chamada gastosJaneiro e inicialize-a com o valor gasto no mês de janeiro, declare também as variáveis gastosFevereiro e gastosMarco, inicializando-as com os respectivos gastos, utilize uma linha para cada declaração;\n",
    "\n",
    "2 - Crie uma variável chamada gastosTrimestre e inicialize-a com a soma das outras variáveis."
   ]
  },
  {
   "cell_type": "code",
   "execution_count": 1,
   "id": "17e62d00",
   "metadata": {},
   "outputs": [],
   "source": [
    "double gastosJaneiro = 567.89;\n",
    "double gastosFevereiro = 876.54;\n",
    "double gastosMarco = 934.21;"
   ]
  },
  {
   "cell_type": "code",
   "execution_count": 2,
   "id": "3da62a47",
   "metadata": {},
   "outputs": [],
   "source": [
    "double gastosTrimestre = gastosJaneiro + gastosFevereiro + gastosMarco;"
   ]
  },
  {
   "cell_type": "markdown",
   "id": "0ba44482",
   "metadata": {},
   "source": [
    "Exiba a variável gastosTrimestre"
   ]
  },
  {
   "cell_type": "code",
   "execution_count": 3,
   "id": "cabb8cd4",
   "metadata": {},
   "outputs": [
    {
     "name": "stdout",
     "output_type": "stream",
     "text": [
      "Gastos do trimestre: 2378.64\n"
     ]
    }
   ],
   "source": [
    "System.out.println(\"Gastos do trimestre: \" + gastosTrimestre);"
   ]
  },
  {
   "cell_type": "markdown",
   "id": "4a7f311a",
   "metadata": {},
   "source": [
    "Declare a variável mediaMensal e faça o cálculo para a média mensal de gastos"
   ]
  },
  {
   "cell_type": "code",
   "execution_count": 4,
   "id": "8c3b1832",
   "metadata": {},
   "outputs": [],
   "source": [
    "double mediaMensal = gastosTrimestre / 3;"
   ]
  },
  {
   "cell_type": "markdown",
   "id": "dd370973",
   "metadata": {},
   "source": [
    "Exiba a mensagem \"Valor da média mensal = \" juntamente com o valor da média mensal"
   ]
  },
  {
   "cell_type": "code",
   "execution_count": 5,
   "id": "f5b3fdf7",
   "metadata": {},
   "outputs": [
    {
     "name": "stdout",
     "output_type": "stream",
     "text": [
      "Valor da média mensal: 792.88\n"
     ]
    }
   ],
   "source": [
    "System.out.println(\"Valor da média mensal: \" + mediaMensal);"
   ]
  }
 ],
 "metadata": {
  "kernelspec": {
   "display_name": "Java",
   "language": "java",
   "name": "java"
  },
  "language_info": {
   "codemirror_mode": "java",
   "file_extension": ".jshell",
   "mimetype": "text/x-java-source",
   "name": "Java",
   "pygments_lexer": "java",
   "version": "11.0.18+10"
  }
 },
 "nbformat": 4,
 "nbformat_minor": 5
}
