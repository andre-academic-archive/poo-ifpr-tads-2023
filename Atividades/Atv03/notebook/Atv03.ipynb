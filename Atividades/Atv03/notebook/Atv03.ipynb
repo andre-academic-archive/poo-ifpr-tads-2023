{
 "cells": [
  {
   "cell_type": "markdown",
   "id": "14e01bb5-4b25-4fa7-b2db-00e037b227a6",
   "metadata": {},
   "source": [
    "# Atv03"
   ]
  },
  {
   "cell_type": "markdown",
   "id": "4512eb5c-4a84-45e3-a4e5-998eeab4ab2b",
   "metadata": {},
   "source": [
    "Usando a classe JOptionPane para entrada de dados, receba a nota de duas provas e de um trabalho."
   ]
  },
  {
   "cell_type": "code",
   "execution_count": 1,
   "id": "17e62d00",
   "metadata": {},
   "outputs": [],
   "source": [
    "import javax.swing.JOptionPane;"
   ]
  },
  {
   "cell_type": "code",
   "execution_count": 2,
   "id": "3da62a47",
   "metadata": {},
   "outputs": [],
   "source": [
    "double prova1 = Double.parseDouble(JOptionPane.showInputDialog(\"Digite a nota da primeira prova:\"));\n",
    "double prova2 = Double.parseDouble(JOptionPane.showInputDialog(\"Digite a nota da segunda prova:\"));\n",
    "double trabalho = Double.parseDouble(JOptionPane.showInputDialog(\"Digite a nota do trabalho:\"));"
   ]
  },
  {
   "cell_type": "markdown",
   "id": "0ba44482",
   "metadata": {},
   "source": [
    "Calcule a média"
   ]
  },
  {
   "cell_type": "code",
   "execution_count": 3,
   "id": "cabb8cd4",
   "metadata": {},
   "outputs": [],
   "source": [
    "double media = (prova1 + prova2 + trabalho) / 3;"
   ]
  },
  {
   "cell_type": "markdown",
   "id": "1c0d3caf",
   "metadata": {},
   "source": [
    "Mostre a média usando o showMessageDialog da classe JOptionPane"
   ]
  },
  {
   "cell_type": "code",
   "execution_count": 4,
   "id": "a136f706",
   "metadata": {},
   "outputs": [],
   "source": [
    "JOptionPane.showMessageDialog(null, \"A média é: \" + media);"
   ]
  }
 ],
 "metadata": {
  "kernelspec": {
   "display_name": "Java",
   "language": "java",
   "name": "java"
  },
  "language_info": {
   "codemirror_mode": "java",
   "file_extension": ".jshell",
   "mimetype": "text/x-java-source",
   "name": "Java",
   "pygments_lexer": "java",
   "version": "11.0.18+10"
  }
 },
 "nbformat": 4,
 "nbformat_minor": 5
}
