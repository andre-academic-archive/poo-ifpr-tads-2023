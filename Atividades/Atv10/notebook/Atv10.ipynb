{
 "cells": [
  {
   "cell_type": "markdown",
   "id": "14e01bb5-4b25-4fa7-b2db-00e037b227a6",
   "metadata": {},
   "source": [
    "# Atv10"
   ]
  },
  {
   "cell_type": "markdown",
   "id": "4512eb5c-4a84-45e3-a4e5-998eeab4ab2b",
   "metadata": {},
   "source": [
    "Você foi contratado para desenvolver um programa em Java que realiza operações com números inteiros. Para isso, você precisa implementar métodos sem retorno que executam tarefas específicas. \n",
    "\n",
    "\n",
    "- Implemente o método imprimirNumeros, que recebe um array de inteiros como parâmetro e exibe os números na tela, separados por um espaço. O método não deve retornar nenhum valor.\n",
    "\n",
    "\n",
    "- Implemente o método somaNumeros, que recebe um array de inteiros como parâmetro, calcula a soma de todos os números do array e exibe o resultado na tela. O método não deve retornar nenhum valor \n",
    "\n",
    "\n",
    "- No método main, um array de números inteiros é criado e inicializado. Você deve chamar o método imprimirNumeros passando o array como argumento. Em seguida, chame o método somaNumeros para calcular a soma dos números e exibir o resultado. Por fim, chame novamente o método imprimirNumeros para exibir o array atualizado após a soma.\n",
    "\n",
    "Observações:\n",
    "\n",
    "> Os métodos imprimirNumeros e somaNumeros devem ser implementados dentro da classe ExercicioSemRetorno.\n",
    "> Utilize estruturas de repetição e operações matemáticas para calcular a soma dos números."
   ]
  },
  {
   "cell_type": "code",
   "execution_count": 1,
   "id": "17e62d00",
   "metadata": {},
   "outputs": [],
   "source": [
    "public class ExercicioSemRetorno {\n",
    "    public static void imprimirNumeros(int[] numeros) {\n",
    "        for (int numero : numeros) {\n",
    "            System.out.print(numero + \" \");\n",
    "        }\n",
    "        System.out.println();\n",
    "    }\n",
    "    \n",
    "    public static void somaNumeros(int[] numeros) {\n",
    "        int soma = 0;\n",
    "        for (int numero : numeros) {\n",
    "            soma += numero;\n",
    "        }\n",
    "        System.out.println(\"Soma dos números: \" + soma);\n",
    "    }\n",
    "    \n",
    "    public static void main(String[] args) {\n",
    "        int[] numeros = {1, 2, 3, 4, 5};\n",
    "        \n",
    "        System.out.println(\"Números iniciais:\");\n",
    "        imprimirNumeros(numeros);\n",
    "        \n",
    "        somaNumeros(numeros);\n",
    "        \n",
    "        System.out.println(\"Números após a soma:\");\n",
    "        imprimirNumeros(numeros);\n",
    "    }\n",
    "}"
   ]
  },
  {
   "cell_type": "code",
   "execution_count": 2,
   "id": "dd1819d8",
   "metadata": {},
   "outputs": [
    {
     "name": "stdout",
     "output_type": "stream",
     "text": [
      "Números iniciais:\n",
      "1 2 3 4 5 \n",
      "Soma dos números: 15\n",
      "Números após a soma:\n",
      "1 2 3 4 5 \n"
     ]
    }
   ],
   "source": [
    "ExercicioSemRetorno.main(null);"
   ]
  }
 ],
 "metadata": {
  "kernelspec": {
   "display_name": "Java",
   "language": "java",
   "name": "java"
  },
  "language_info": {
   "codemirror_mode": "java",
   "file_extension": ".jshell",
   "mimetype": "text/x-java-source",
   "name": "Java",
   "pygments_lexer": "java",
   "version": "19.0.2+7-Ubuntu-0ubuntu322.04"
  }
 },
 "nbformat": 4,
 "nbformat_minor": 5
}
