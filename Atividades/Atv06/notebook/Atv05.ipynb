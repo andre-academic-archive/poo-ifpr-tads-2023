{
 "cells": [
  {
   "cell_type": "markdown",
   "id": "14e01bb5-4b25-4fa7-b2db-00e037b227a6",
   "metadata": {},
   "source": [
    "# Atv06"
   ]
  },
  {
   "cell_type": "markdown",
   "id": "4512eb5c-4a84-45e3-a4e5-998eeab4ab2b",
   "metadata": {},
   "source": [
    "Dados os valores de um depósito fixo mensal e um montante desejado, exiba abaixo o trecho do código em java para determinar quantos meses serão necessários para acumular o montante desejado, considerando juros mensais de 0,5%."
   ]
  },
  {
   "cell_type": "code",
   "execution_count": 1,
   "id": "17e62d00",
   "metadata": {},
   "outputs": [],
   "source": [
    "double depositoMensal = Double.parseDouble(JOptionPane.showInputDialog(\"Digite o valor mensal de depósito:\"));\n",
    "double montanteDesejado = Double.parseDouble(JOptionPane.showInputDialog(\"Digite o montante desejado:\"));\n",
    "\n",
    "\n",
    "int meses = 0;\n",
    "double montanteAtual = 0;"
   ]
  },
  {
   "cell_type": "code",
   "execution_count": 2,
   "id": "d9859a95",
   "metadata": {},
   "outputs": [],
   "source": [
    "while (montanteAtual < montanteDesejado) {\n",
    "    montanteAtual += depositoFixoMensal + (montanteAtual * jurosMensais);\n",
    "    meses++;\n",
    "}"
   ]
  },
  {
   "cell_type": "code",
   "execution_count": 3,
   "id": "dd1819d8",
   "metadata": {},
   "outputs": [
    {
     "name": "stdout",
     "output_type": "stream",
     "text": [
      "Serão necessários 45 meses para acumular o montante desejado.\n"
     ]
    }
   ],
   "source": [
    "System.out.println(\"Serão necessários \" + meses + \" meses para acumular o montante desejado.\");"
   ]
  }
 ],
 "metadata": {
  "kernelspec": {
   "display_name": "Java",
   "language": "java",
   "name": "java"
  },
  "language_info": {
   "codemirror_mode": "java",
   "file_extension": ".jshell",
   "mimetype": "text/x-java-source",
   "name": "Java",
   "pygments_lexer": "java",
   "version": "11.0.18+10"
  }
 },
 "nbformat": 4,
 "nbformat_minor": 5
}
