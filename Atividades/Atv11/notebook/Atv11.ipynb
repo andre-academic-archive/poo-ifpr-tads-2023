{
 "cells": [
  {
   "cell_type": "markdown",
   "id": "14e01bb5-4b25-4fa7-b2db-00e037b227a6",
   "metadata": {},
   "source": [
    "# Atv11"
   ]
  },
  {
   "cell_type": "markdown",
   "id": "4512eb5c-4a84-45e3-a4e5-998eeab4ab2b",
   "metadata": {},
   "source": [
    "- Crie uma classe chamada \"Pessoa\" com os seguintes atributos privados: \"nome\" (do tipo String), \"idade\" (do tipo int) e \"altura\" (do tipo double). Em seguida, implemente métodos públicos para acessar e modificar esses atributos, respeitando o princípio de encapsulamento.\n",
    "\n",
    "\n",
    "- Crie uma classe para testar o funcionamento da classe \"Pessoa\"."
   ]
  },
  {
   "cell_type": "code",
   "execution_count": 1,
   "id": "17e62d00",
   "metadata": {},
   "outputs": [],
   "source": [
    "public class Pessoa {\n",
    "    private String nome;\n",
    "    private int idade;\n",
    "    private double altura;\n",
    "\n",
    "    Pessoa(String nome, int idade, double altura) {\n",
    "        this.nome = nome;\n",
    "        this.idade = idade;\n",
    "        this.altura = altura;\n",
    "    }\n",
    "\n",
    "    public String getNome() {\n",
    "        return this.nome;\n",
    "    }\n",
    "    public void setNome(String nome) {\n",
    "        this.nome = nome;\n",
    "    }\n",
    "\n",
    "    public int getIdade() {\n",
    "        return this.idade;\n",
    "    }\n",
    "    public void setIdade(int idade) {\n",
    "        this.idade = idade;\n",
    "    }\n",
    "\n",
    "    public double getAltura() {\n",
    "        return this.altura;\n",
    "    }\n",
    "    public void setAltura(double altura) {\n",
    "        this.altura = altura;\n",
    "    }\n",
    "}"
   ]
  },
  {
   "cell_type": "code",
   "execution_count": 2,
   "id": "dd1819d8",
   "metadata": {},
   "outputs": [],
   "source": [
    "void error(String message) {\n",
    "    System.err.println(message);\n",
    "    // System.exit(1);\n",
    "}\n",
    "\n",
    "public class UsaPessoa {\n",
    "    public static void main() {\n",
    "        Pessoa pessoa = new Pessoa(\"André Bortoli\", 19, 1.65);\n",
    "\n",
    "        if (!pessoa.getNome().equals(\"André Bortoli\")) {\n",
    "            error(\"O método getNome não funciona propriamente\");\n",
    "        }\n",
    "        if (pessoa.getIdade() != 19) {\n",
    "            error(\"O método getIdade não funciona propriamente\");\n",
    "        }\n",
    "        if (pessoa.getAltura() != 1.65) {\n",
    "            error(\"O método getAltura não funciona propriamente\");\n",
    "        }\n",
    "\n",
    "        pessoa.setNome(\"Bortoli André\");\n",
    "        pessoa.setIdade(60);\n",
    "        pessoa.setAltura(2.00);\n",
    "\n",
    "        if (!pessoa.getNome().equals(\"Bortoli André\")) {\n",
    "            error(\"O método setNome não funciona propriamente\");\n",
    "        }\n",
    "        if (pessoa.getIdade() != 60) {\n",
    "            error(\"O método setIdade não funciona propriamente\");\n",
    "        }\n",
    "        if (pessoa.getAltura() != 2.00) {\n",
    "            error(\"O método setAltura não funciona propriamente\");\n",
    "        }\n",
    "        \n",
    "        System.out.println(\"Todos os métodos funcionam conforme esperado\");\n",
    "    }\n",
    "}"
   ]
  },
  {
   "cell_type": "code",
   "execution_count": 3,
   "id": "1aada904",
   "metadata": {},
   "outputs": [
    {
     "name": "stdout",
     "output_type": "stream",
     "text": [
      "Todos os métodos funcionam conforme esperado\n"
     ]
    }
   ],
   "source": [
    "UsaPessoa.main();"
   ]
  }
 ],
 "metadata": {
  "kernelspec": {
   "display_name": "Java",
   "language": "java",
   "name": "java"
  },
  "language_info": {
   "codemirror_mode": "java",
   "file_extension": ".jshell",
   "mimetype": "text/x-java-source",
   "name": "Java",
   "pygments_lexer": "java",
   "version": "19.0.2+7-Ubuntu-0ubuntu322.04"
  }
 },
 "nbformat": 4,
 "nbformat_minor": 5
}
