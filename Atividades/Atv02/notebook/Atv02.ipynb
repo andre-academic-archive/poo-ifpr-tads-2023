{
 "cells": [
  {
   "cell_type": "markdown",
   "id": "14e01bb5-4b25-4fa7-b2db-00e037b227a6",
   "metadata": {},
   "source": [
    "# Atv02"
   ]
  },
  {
   "cell_type": "markdown",
   "id": "4512eb5c-4a84-45e3-a4e5-998eeab4ab2b",
   "metadata": {},
   "source": [
    "Exibir a mensagem “Informe um inteiro: “, deixando o cursor na mesma linha"
   ]
  },
  {
   "cell_type": "code",
   "execution_count": 1,
   "id": "3da62a47",
   "metadata": {},
   "outputs": [
    {
     "name": "stdout",
     "output_type": "stream",
     "text": [
      "Informe um inteiro: "
     ]
    }
   ],
   "source": [
    "System.out.print(\"Informe um inteiro: \");"
   ]
  },
  {
   "cell_type": "markdown",
   "id": "0ba44482",
   "metadata": {},
   "source": [
    "Atribuir o produto das variáveis b e c para a variável a"
   ]
  },
  {
   "cell_type": "code",
   "execution_count": 2,
   "id": "cabb8cd4",
   "metadata": {},
   "outputs": [],
   "source": [
    "int a, b = 15, c = 6;\n",
    "\n",
    "a = b * c;"
   ]
  },
  {
   "cell_type": "markdown",
   "id": "1c0d3caf",
   "metadata": {},
   "source": [
    "Demonstrar a execução do cálculo e utilizar um comentário para afirmar que é um programa de exemplo de folha de pagamento."
   ]
  },
  {
   "cell_type": "code",
   "execution_count": 3,
   "id": "a136f706",
   "metadata": {},
   "outputs": [
    {
     "name": "stdout",
     "output_type": "stream",
     "text": [
      "15 * 6 = 90\n"
     ]
    }
   ],
   "source": [
    "// // Este programa executa um cálculo de exemplo de folha de pagamento.\n",
    "\n",
    "System.out.println(b + \" * \" + c + \" = \" + a);"
   ]
  }
 ],
 "metadata": {
  "kernelspec": {
   "display_name": "Java",
   "language": "java",
   "name": "java"
  },
  "language_info": {
   "codemirror_mode": "java",
   "file_extension": ".jshell",
   "mimetype": "text/x-java-source",
   "name": "Java",
   "pygments_lexer": "java",
   "version": "11.0.18+10"
  }
 },
 "nbformat": 4,
 "nbformat_minor": 5
}
