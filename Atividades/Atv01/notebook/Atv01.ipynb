{
 "cells": [
  {
   "cell_type": "markdown",
   "id": "14e01bb5-4b25-4fa7-b2db-00e037b227a6",
   "metadata": {},
   "source": [
    "# Atv01"
   ]
  },
  {
   "cell_type": "markdown",
   "id": "4512eb5c-4a84-45e3-a4e5-998eeab4ab2b",
   "metadata": {},
   "source": [
    "Apresente a soma de todos os argumentos inteiros ou reais recebidos"
   ]
  },
  {
   "cell_type": "code",
   "execution_count": 1,
   "id": "ab457bf1",
   "metadata": {},
   "outputs": [],
   "source": [
    "import java.util.Scanner;"
   ]
  },
  {
   "cell_type": "code",
   "execution_count": 2,
   "id": "1cfa7b6b-5cfa-4a91-bd45-1479ccfb2e81",
   "metadata": {},
   "outputs": [
    {
     "name": "stdout",
     "output_type": "stream",
     "text": [
      "Digite os números que deseja somar. Para calcular a soma total, basta deixar uma linha em branco:\n",
      "15\n",
      "Soma parcial: 15.0\n",
      "6\n",
      "Soma parcial: 21.0\n",
      "3\n",
      "Soma parcial: 24.0\n",
      "3\n",
      "Soma parcial: 27.0\n",
      "3\n",
      "Soma parcial: 30.0\n",
      "3.33\n",
      "Soma parcial: 33.33\n",
      "\n",
      "Total: 33.33\n"
     ]
    }
   ],
   "source": [
    "double total = 0;\n",
    "Scanner input = new Scanner(System.in);\n",
    "System.out.println(\"Digite os números que deseja somar. Para calcular a soma total, basta deixar uma linha em branco:\");\n",
    "\n",
    "while (input.hasNextLine()) {\n",
    "    String line = input.nextLine();\n",
    "\n",
    "    if (line.length() == 0) {\n",
    "        System.out.println(\"Total: \" + total);\n",
    "        break;\n",
    "    }\n",
    "\n",
    "    try {\n",
    "        double number = Double.parseDouble(line);\n",
    "        total += number;\n",
    "        System.out.println(\"Soma parcial: \" + total);\n",
    "    } catch (NumberFormatException e) {}\n",
    "}"
   ]
  }
 ],
 "metadata": {
  "kernelspec": {
   "display_name": "Java",
   "language": "java",
   "name": "java"
  },
  "language_info": {
   "codemirror_mode": "java",
   "file_extension": ".jshell",
   "mimetype": "text/x-java-source",
   "name": "Java",
   "pygments_lexer": "java",
   "version": "11.0.18+10"
  }
 },
 "nbformat": 4,
 "nbformat_minor": 5
}
